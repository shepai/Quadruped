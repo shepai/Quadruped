{
 "cells": [
  {
   "cell_type": "code",
   "execution_count": 1,
   "metadata": {},
   "outputs": [
    {
     "name": "stderr",
     "output_type": "stream",
     "text": [
      "pybullet build time: Nov 28 2023 23:45:17\n"
     ]
    }
   ],
   "source": [
    "path=\"C:/Users/dexte/Documents/GitHub/Quadruped/Quadruped_sim/urdf/\"\n",
    "path=\"/its/home/drs25/Documents/GitHub/Quadruped/Quadruped_sim/urdf/\"\n",
    "\n",
    "import os\n",
    "import numpy as np\n",
    "from environment import environment\n",
    "from environment import p\n",
    "from agent import agent\n",
    "clear = lambda: os.system('clear')\n",
    "import time\n",
    "def update(env,imer=1000,show=0):\n",
    "    for k in range(imer): #update simulation\n",
    "        p.stepSimulation()\n",
    "        if not show:\n",
    "            p.setTimeStep(1./240.)\n",
    "        else:\n",
    "            time.sleep(1./240.)"
   ]
  },
  {
   "attachments": {},
   "cell_type": "markdown",
   "metadata": {},
   "source": [
    "# parameters"
   ]
  },
  {
   "cell_type": "code",
   "execution_count": 2,
   "metadata": {},
   "outputs": [
    {
     "name": "stdout",
     "output_type": "stream",
     "text": [
      "startThreads creating 1 threads.\n",
      "starting thread 0\n",
      "started thread 0 \n",
      "argc=2\n",
      "argv[0] = --unused\n",
      "argv[1] = --start_demo_name=Physics Server\n",
      "ExampleBrowserThreadFunc started\n",
      "X11 functions dynamically loaded using dlopen/dlsym OK!\n",
      "X11 functions dynamically loaded using dlopen/dlsym OK!\n",
      "Creating context\n",
      "Created GL 3.3 context\n",
      "Direct GLX rendering context obtained\n",
      "Making context current\n",
      "GL_VENDOR=NVIDIA Corporation\n",
      "GL_RENDERER=Quadro P620/PCIe/SSE2\n",
      "GL_VERSION=3.3.0 NVIDIA 535.183.01\n",
      "GL_SHADING_LANGUAGE_VERSION=3.30 NVIDIA via Cg compiler\n",
      "pthread_getconcurrency()=0\n",
      "Version = 3.3.0 NVIDIA 535.183.01\n",
      "Vendor = NVIDIA Corporation\n",
      "Renderer = Quadro P620/PCIe/SSE2\n",
      "b3Printf: Selected demo: Physics Server\n",
      "startThreads creating 1 threads.\n",
      "starting thread 0\n",
      "started thread 0 \n",
      "MotionThreadFunc thread started\n",
      "ven = NVIDIA Corporation\n",
      "ven = NVIDIA Corporation\n"
     ]
    },
    {
     "data": {
      "text/plain": [
       "0"
      ]
     },
     "execution_count": 2,
     "metadata": {},
     "output_type": "execute_result"
    }
   ],
   "source": [
    "# Initialize the PyBullet physics engine\n",
    "env=environment(True)\n",
    "a=agent()\n",
    "def euclidean_distance(point1, point2):\n",
    "    return np.sqrt(np.sum((np.array(point1) - np.array(point2)) ** 2))\n",
    "env.runTrial(a,100)"
   ]
  },
  {
   "attachments": {},
   "cell_type": "markdown",
   "metadata": {},
   "source": [
    "# manual"
   ]
  },
  {
   "cell_type": "code",
   "execution_count": 3,
   "metadata": {},
   "outputs": [],
   "source": [
    "env.reset()\n",
    "update(env)"
   ]
  },
  {
   "cell_type": "code",
   "execution_count": 4,
   "metadata": {},
   "outputs": [],
   "source": [
    "def safe_get(i):\n",
    "     return env.quad.motors[i]\n",
    "def safe_set(i,angle):\n",
    "     a=env.quad.motors.copy()\n",
    "     a[i]=angle\n",
    "     env.quad.setPositions(a)\n",
    "#env.quad.setPositions(np.array([50 for i in range(12)]))\n",
    "def schedule_move(target_angles, step_size=1):\n",
    "        # Flag to track if any servo still needs to move\n",
    "        moving = True\n",
    "\n",
    "        while moving:\n",
    "            moving = False  # Assume all servos have reached their target for this iteration\n",
    "\n",
    "            for i, target_angle in enumerate(target_angles):\n",
    "                #print(i)\n",
    "                current_angle = safe_get(i) or 0 # Handle case where angle is None\n",
    "                # Calculate step direction based on difference\n",
    "                if not(current_angle>target_angle-1 and current_angle<target_angle+1): #within bounds\n",
    "                    if current_angle < target_angle:\n",
    "                        new_angle = min(current_angle + step_size, target_angle)\n",
    "                        moving = True\n",
    "                    elif current_angle > target_angle:\n",
    "                        new_angle = max(current_angle - step_size, target_angle)\n",
    "                        moving = True\n",
    "                    else:\n",
    "                        new_angle = current_angle  # Servo is already at target\n",
    "\n",
    "                    # Set the new angle\n",
    "                    safe_set(i,new_angle)\n",
    "            update(env,imer=10,show=True)\n",
    "            \n",
    "def crawl_step():\n",
    "        leg_seq=[[30,-30,0],[0,30,0]] #,[-30,0,0]\n",
    "        bod_seq=[0,2,1,3]\n",
    "        \n",
    "        for j in range(len(bod_seq)):\n",
    "            leg=bod_seq[j]\n",
    "            for i in range(len(leg_seq)):\n",
    "                if leg==0 or leg==2:\n",
    "                    leg_seq[i][0]*=-1\n",
    "                    leg_seq[i][1]*=-1\n",
    "                motors=np.array([0 for k in range(3*leg)]+leg_seq[i]+[0 for k in range(12-len([0 for p in range(3*leg)]+leg_seq[i]))])\n",
    "                seq=motors+np.array([safe_get(k) for k in range(12)])\n",
    "                seq[seq<0]=0\n",
    "                seq[seq>180]=180\n",
    "                schedule_move(seq,5)\n",
    "\n",
    "        schedule_move(env.quad.neutral,5)        \n",
    "        \n",
    "        update(env,imer=100,show=True)\n",
    "env.reset()\n",
    "update(env)\n",
    "for i in range(10):\n",
    "    crawl_step()"
   ]
  }
 ],
 "metadata": {
  "kernelspec": {
   "display_name": "base",
   "language": "python",
   "name": "python3"
  },
  "language_info": {
   "codemirror_mode": {
    "name": "ipython",
    "version": 3
   },
   "file_extension": ".py",
   "mimetype": "text/x-python",
   "name": "python",
   "nbconvert_exporter": "python",
   "pygments_lexer": "ipython3",
   "version": "3.10.8"
  },
  "orig_nbformat": 4
 },
 "nbformat": 4,
 "nbformat_minor": 2
}
