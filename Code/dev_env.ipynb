{
 "cells": [
  {
   "cell_type": "code",
   "execution_count": 1,
   "metadata": {},
   "outputs": [
    {
     "name": "stderr",
     "output_type": "stream",
     "text": [
      "pybullet build time: Nov 28 2023 23:45:17\n"
     ]
    }
   ],
   "source": [
    "path=\"C:/Users/dexte/Documents/GitHub/Quadruped/Quadruped_sim/urdf/\"\n",
    "path=\"/its/home/drs25/Documents/GitHub/Quadruped/Quadruped_sim/urdf/\"\n",
    "\n",
    "import os\n",
    "import numpy as np\n",
    "from environment import environment\n",
    "from environment import p\n",
    "from agent import agent\n",
    "clear = lambda: os.system('clear')\n",
    "import time\n",
    "def update(env,imer=1000,show=0):\n",
    "    for k in range(imer): #update simulation\n",
    "        p.stepSimulation()\n",
    "        if not show:\n",
    "            p.setTimeStep(1./240.)\n",
    "        else:\n",
    "            time.sleep(1./240.)"
   ]
  },
  {
   "attachments": {},
   "cell_type": "markdown",
   "metadata": {},
   "source": [
    "# parameters"
   ]
  },
  {
   "cell_type": "code",
   "execution_count": 2,
   "metadata": {},
   "outputs": [
    {
     "name": "stdout",
     "output_type": "stream",
     "text": [
      "startThreads creating 1 threads.\n",
      "starting thread 0\n",
      "started thread 0 \n",
      "argc=2\n",
      "argv[0] = --unused\n",
      "argv[1] = --start_demo_name=Physics Server\n",
      "ExampleBrowserThreadFunc started\n",
      "X11 functions dynamically loaded using dlopen/dlsym OK!\n",
      "X11 functions dynamically loaded using dlopen/dlsym OK!\n",
      "Creating context\n",
      "Created GL 3.3 context\n",
      "Direct GLX rendering context obtained\n",
      "Making context current\n",
      "GL_VENDOR=NVIDIA Corporation\n",
      "GL_RENDERER=Quadro P620/PCIe/SSE2\n",
      "GL_VERSION=3.3.0 NVIDIA 535.183.01\n",
      "GL_SHADING_LANGUAGE_VERSION=3.30 NVIDIA via Cg compiler\n",
      "pthread_getconcurrency()=0\n",
      "Version = 3.3.0 NVIDIA 535.183.01\n",
      "Vendor = NVIDIA Corporation\n",
      "Renderer = Quadro P620/PCIe/SSE2\n",
      "b3Printf: Selected demo: Physics Server\n",
      "startThreads creating 1 threads.\n",
      "starting thread 0\n",
      "started thread 0 \n",
      "MotionThreadFunc thread started\n",
      "ven = NVIDIA Corporation\n",
      "ven = NVIDIA Corporation\n"
     ]
    },
    {
     "data": {
      "text/plain": [
       "0"
      ]
     },
     "execution_count": 2,
     "metadata": {},
     "output_type": "execute_result"
    }
   ],
   "source": [
    "# Initialize the PyBullet physics engine\n",
    "env=environment(True)\n",
    "a=agent()\n",
    "def euclidean_distance(point1, point2):\n",
    "    return np.sqrt(np.sum((np.array(point1) - np.array(point2)) ** 2))\n",
    "env.runTrial(a,100)"
   ]
  },
  {
   "attachments": {},
   "cell_type": "markdown",
   "metadata": {},
   "source": [
    "# manual"
   ]
  },
  {
   "cell_type": "code",
   "execution_count": 3,
   "metadata": {},
   "outputs": [],
   "source": [
    "env.reset()\n",
    "update(env,show=0)"
   ]
  },
  {
   "cell_type": "code",
   "execution_count": 4,
   "metadata": {},
   "outputs": [],
   "source": [
    "env.reset()\n",
    "update(env,show=0)\n",
    "a=[-30, 0, 40, -30, 50, -10, 0, 10, 20, 30, -30, 50]\n",
    "env.quad.setPositions(a)\n",
    "update(env,1000,0)"
   ]
  },
  {
   "cell_type": "code",
   "execution_count": null,
   "metadata": {},
   "outputs": [],
   "source": [
    "def safe_get(i):\n",
    "     return env.quad.motors[i]\n",
    "def safe_set(i,angle):\n",
    "     a=env.quad.motors.copy()\n",
    "     a[i]=angle\n",
    "     env.quad.setPositions(a)\n",
    "#env.quad.setPositions(np.array([50 for i in range(12)]))\n",
    "def schedule_move(target_angles, step_size=1):\n",
    "        # Flag to track if any servo still needs to move\n",
    "        moving = True\n",
    "\n",
    "        while moving:\n",
    "            moving = False  # Assume all servos have reached their target for this iteration\n",
    "\n",
    "            for i, target_angle in enumerate(target_angles):\n",
    "                #print(i)\n",
    "                current_angle = safe_get(i) or 0 # Handle case where angle is None\n",
    "                # Calculate step direction based on difference\n",
    "                if not(current_angle>target_angle-1 and current_angle<target_angle+1): #within bounds\n",
    "                    if current_angle < target_angle:\n",
    "                        new_angle = min(current_angle + step_size, target_angle)\n",
    "                        moving = True\n",
    "                    elif current_angle > target_angle:\n",
    "                        new_angle = max(current_angle - step_size, target_angle)\n",
    "                        moving = True\n",
    "                    else:\n",
    "                        new_angle = current_angle  # Servo is already at target\n",
    "\n",
    "                    # Set the new angle\n",
    "                    safe_set(i,new_angle)\n",
    "            update(env,imer=10,show=True)\n",
    "            \n",
    "def crawl_step():\n",
    "        leg_seq=[[0,-30,0],[30,30,0],[-30,0,0]] #,[-30,0,0]\n",
    "        bod_seq=[0,2,1,3]\n",
    "        \n",
    "        for j in range(len(bod_seq)):\n",
    "            leg=bod_seq[j]\n",
    "            for i in range(len(leg_seq)):\n",
    "                if leg==0 or leg==2:\n",
    "                    leg_seq[i][0]*=-1\n",
    "                    leg_seq[i][1]*=-1\n",
    "                motors=np.array([0 for k in range(3*leg)]+leg_seq[i]+[0 for k in range(12-len([0 for p in range(3*leg)]+leg_seq[i]))])\n",
    "                seq=motors+np.array([safe_get(k) for k in range(12)])\n",
    "                seq[seq<0]=0\n",
    "                seq[seq>180]=180\n",
    "                schedule_move(seq,5)\n",
    "\n",
    "        schedule_move(env.quad.neutral,5)        \n",
    "        print(env.quad.motors)\n",
    "        update(env,imer=100,show=True)\n",
    "env.reset()\n",
    "env.quad.reset()\n",
    "update(env)\n",
    "for i in range(10):\n",
    "    crawl_step()\n"
   ]
  },
  {
   "cell_type": "code",
   "execution_count": 13,
   "metadata": {},
   "outputs": [
    {
     "ename": "KeyboardInterrupt",
     "evalue": "",
     "output_type": "error",
     "traceback": [
      "\u001b[0;31m---------------------------------------------------------------------------\u001b[0m",
      "\u001b[0;31mKeyboardInterrupt\u001b[0m                         Traceback (most recent call last)",
      "Cell \u001b[0;32mIn[13], line 50\u001b[0m\n\u001b[1;32m     48\u001b[0m     seq[seq\u001b[39m<\u001b[39m\u001b[39m0\u001b[39m]\u001b[39m=\u001b[39m\u001b[39m0\u001b[39m\n\u001b[1;32m     49\u001b[0m     seq[seq\u001b[39m>\u001b[39m\u001b[39m180\u001b[39m]\u001b[39m=\u001b[39m\u001b[39m180\u001b[39m\n\u001b[0;32m---> 50\u001b[0m     schedule_move(move)\n\u001b[1;32m     51\u001b[0m     update(env)\n\u001b[1;32m     52\u001b[0m schedule_move(env\u001b[39m.\u001b[39mquad\u001b[39m.\u001b[39mneutral,\u001b[39m5\u001b[39m)    \n",
      "Cell \u001b[0;32mIn[8], line 31\u001b[0m, in \u001b[0;36mschedule_move\u001b[0;34m(target_angles, step_size)\u001b[0m\n\u001b[1;32m     29\u001b[0m         \u001b[39m# Set the new angle\u001b[39;00m\n\u001b[1;32m     30\u001b[0m         safe_set(i,new_angle)\n\u001b[0;32m---> 31\u001b[0m update(env,imer\u001b[39m=\u001b[39;49m\u001b[39m10\u001b[39;49m,show\u001b[39m=\u001b[39;49m\u001b[39mTrue\u001b[39;49;00m)\n",
      "Cell \u001b[0;32mIn[1], line 17\u001b[0m, in \u001b[0;36mupdate\u001b[0;34m(env, imer, show)\u001b[0m\n\u001b[1;32m     15\u001b[0m     p\u001b[39m.\u001b[39msetTimeStep(\u001b[39m1.\u001b[39m\u001b[39m/\u001b[39m\u001b[39m240.\u001b[39m)\n\u001b[1;32m     16\u001b[0m \u001b[39melse\u001b[39;00m:\n\u001b[0;32m---> 17\u001b[0m     time\u001b[39m.\u001b[39;49msleep(\u001b[39m1.\u001b[39;49m\u001b[39m/\u001b[39;49m\u001b[39m240.\u001b[39;49m)\n",
      "\u001b[0;31mKeyboardInterrupt\u001b[0m: "
     ]
    }
   ],
   "source": [
    "current_position = env.quad.neutral.copy()\n",
    "\n",
    "def generate_walk_cycle():\n",
    "    walk_pattern = []\n",
    "\n",
    "    # Phase 1: Lift Leg Pair 1 (Front-left and Back-right)\n",
    "    current_position[0] += 20  # Move hip of Leg 1 forward\n",
    "    current_position[1] += 20  # Raise knee of Leg 1\n",
    "    current_position[6] += 20  # Move hip of Leg 3 forward\n",
    "    current_position[7] += 20  # Raise knee of Leg 3\n",
    "    walk_pattern.append(current_position[:])\n",
    "\n",
    "    # Phase 2: Move Leg Pair 1 Forward (keep knee raised, hip forward)\n",
    "    # No change needed; just append the current state\n",
    "    walk_pattern.append(current_position[:])\n",
    "\n",
    "    # Phase 3: Lower Leg Pair 1 (lower knees to land feet)\n",
    "    current_position[1] -= 20  # Lower knee of Leg 1\n",
    "    current_position[7] -= 20  # Lower knee of Leg 3\n",
    "    walk_pattern.append(current_position[:])\n",
    "\n",
    "    # Phase 4: Lift Leg Pair 2 (Front-right and Back-left)\n",
    "    current_position[3] += 20  # Move hip of Leg 2 forward\n",
    "    current_position[4] += 20  # Raise knee of Leg 2\n",
    "    current_position[9] += 20  # Move hip of Leg 4 forward\n",
    "    current_position[10] += 20  # Raise knee of Leg 4\n",
    "    walk_pattern.append(current_position[:])\n",
    "\n",
    "    # Phase 5: Move Leg Pair 2 Forward (keep knee raised, hip forward)\n",
    "    # No change needed; just append the current state\n",
    "    walk_pattern.append(current_position[:])\n",
    "\n",
    "    # Phase 6: Lower Leg Pair 2 (lower knees to land feet)\n",
    "    current_position[4] -= 20  # Lower knee of Leg 2\n",
    "    current_position[10] -= 20  # Lower knee of Leg 4\n",
    "    walk_pattern.append(current_position[:])\n",
    "\n",
    "    return walk_pattern\n",
    "\n",
    "env.reset()\n",
    "env.quad.reset()\n",
    "update(env)\n",
    "# Execute the walk cycle\n",
    "for i in range(100):\n",
    "    for move in generate_walk_cycle():\n",
    "        motors=np.array(move)\n",
    "        seq=motors+np.array([safe_get(k) for k in range(12)])\n",
    "        seq[seq<0]=0\n",
    "        seq[seq>180]=180\n",
    "        schedule_move(move)\n",
    "        update(env)\n",
    "    schedule_move(env.quad.neutral,5)    \n",
    "    update(env)"
   ]
  },
  {
   "cell_type": "code",
   "execution_count": 14,
   "metadata": {},
   "outputs": [],
   "source": [
    "import math\n",
    "import time\n",
    "\n",
    "# Define the parameters for sine waves for each joint\n",
    "frequency = 1.0  # Frequency of movement (Hz)\n",
    "amplitude_hip = 30  # Hip movement amplitude in degrees\n",
    "amplitude_knee = 20  # Knee movement amplitude in degrees\n",
    "amplitude_foot = 10  # Foot movement amplitude in degrees\n",
    "phase_offsets = [0, math.pi / 2, math.pi, 3 * math.pi / 2]  # Phase offsets for each leg\n",
    "\n",
    "# Calculate the time step based on the desired update frequency\n",
    "time_step = 0.1  # Update every 100ms for smoother control\n",
    "\n",
    "# Generate a walking cycle based on the sine wave CPG\n",
    "def generate_sine_wave_walk():\n",
    "    start_time = time.time()\n",
    "    while True:\n",
    "        current_time = time.time() - start_time\n",
    "        angles = env.quad.neutral.copy()  # Initialize a list for all 12 joint angles\n",
    "        \n",
    "        for i in range(4):  # For each leg\n",
    "            # Calculate the base sine wave value with phase offset\n",
    "            base_sine = math.sin(2 * math.pi * frequency * current_time + phase_offsets[i])\n",
    "\n",
    "            # Hip movement for forward/backward stride\n",
    "            angles[i * 3] = amplitude_hip * base_sine\n",
    "\n",
    "            # Knee movement for height control\n",
    "            angles[i * 3 + 1] = amplitude_knee * base_sine\n",
    "\n",
    "            # Foot movement to aid with landing\n",
    "            angles[i * 3 + 2] = amplitude_foot * base_sine\n",
    "\n",
    "        # Send the calculated angles to the robot\n",
    "        schedule_move(angles)\n",
    "        update(env)\n",
    "        # Wait for the next update cycle\n",
    "        time.sleep(time_step)\n",
    "env.reset()\n",
    "env.quad.reset()\n",
    "update(env)\n",
    "# Run the sine wave CPG\n",
    "generate_sine_wave_walk()"
   ]
  }
 ],
 "metadata": {
  "kernelspec": {
   "display_name": "base",
   "language": "python",
   "name": "python3"
  },
  "language_info": {
   "codemirror_mode": {
    "name": "ipython",
    "version": 3
   },
   "file_extension": ".py",
   "mimetype": "text/x-python",
   "name": "python",
   "nbconvert_exporter": "python",
   "pygments_lexer": "ipython3",
   "version": "3.10.8"
  },
  "orig_nbformat": 4
 },
 "nbformat": 4,
 "nbformat_minor": 2
}
